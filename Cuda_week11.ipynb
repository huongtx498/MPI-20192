{
  "nbformat": 4,
  "nbformat_minor": 0,
  "metadata": {
    "colab": {
      "name": "Cuda_week11.ipynb",
      "provenance": [],
      "authorship_tag": "ABX9TyN93Cey41k+A890/xUfCRKT",
      "include_colab_link": true
    },
    "kernelspec": {
      "name": "python3",
      "display_name": "Python 3"
    },
    "accelerator": "GPU"
  },
  "cells": [
    {
      "cell_type": "markdown",
      "metadata": {
        "id": "view-in-github",
        "colab_type": "text"
      },
      "source": [
        "<a href=\"https://colab.research.google.com/github/trinhhuong244/MPI-20192/blob/master/Cuda_week11.ipynb\" target=\"_parent\"><img src=\"https://colab.research.google.com/assets/colab-badge.svg\" alt=\"Open In Colab\"/></a>"
      ]
    },
    {
      "cell_type": "markdown",
      "metadata": {
        "id": "70HDd3GfLFZF",
        "colab_type": "text"
      },
      "source": [
        "#Cộng 2 mảng sử dụng GPU cuda\n",
        "\n",
        "\n"
      ]
    },
    {
      "cell_type": "markdown",
      "metadata": {
        "id": "zfHsppcJLdDy",
        "colab_type": "text"
      },
      "source": [
        "complie: nvcc vector_add.c -o vector_add \n",
        "\n",
        "run: nvprof ./vector_add"
      ]
    },
    {
      "cell_type": "code",
      "metadata": {
        "id": "9YfzO3nTB4CE",
        "colab_type": "code",
        "colab": {
          "base_uri": "https://localhost:8080/",
          "height": 68
        },
        "outputId": "4c8e340e-6b01-4a09-c9bc-bcf392194032"
      },
      "source": [
        "%%cu\n",
        "#include <stdio.h>\n",
        "#include <stdlib.h>\n",
        "#include <math.h>\n",
        "#include <assert.h>\n",
        "#include <cuda.h>\n",
        "#include <cuda_runtime.h>\n",
        "\n",
        "#define N 10000000\n",
        "#define MAX_ERR 1e-6\n",
        "\n",
        "__global__ void vector_add(float *out, float *a, float *b, int n) {\n",
        "    for(int i = 0; i < n; i ++){\n",
        "        out[i] = a[i] + b[i];\n",
        "    }\n",
        "}\n",
        "\n",
        "int main(){\n",
        "    float *a, *b, *out;\n",
        "    float *d_a, *d_b, *d_out; \n",
        "\n",
        "    // Allocate host memory\n",
        "    a   = (float*)malloc(sizeof(float) * N);\n",
        "    b   = (float*)malloc(sizeof(float) * N);\n",
        "    out = (float*)malloc(sizeof(float) * N);\n",
        "\n",
        "    // Initialize host arrays\n",
        "    for(int i = 0; i < N; i++){\n",
        "        a[i] = 1.0f;\n",
        "        b[i] = 2.0f;\n",
        "    }\n",
        "\n",
        "    // Allocate device memory\n",
        "    cudaMalloc((void**)&d_a, sizeof(float) * N);\n",
        "    cudaMalloc((void**)&d_b, sizeof(float) * N);\n",
        "    cudaMalloc((void**)&d_out, sizeof(float) * N);\n",
        "\n",
        "    // Transfer data from host to device memory\n",
        "    cudaMemcpy(d_a, a, sizeof(float) * N, cudaMemcpyHostToDevice);\n",
        "    cudaMemcpy(d_b, b, sizeof(float) * N, cudaMemcpyHostToDevice);\n",
        "\n",
        "    // Executing kernel \n",
        "    vector_add<<<1,1>>>(d_out, d_a, d_b, N);\n",
        "    \n",
        "    // Transfer data back to host memory\n",
        "    cudaMemcpy(out, d_out, sizeof(float) * N, cudaMemcpyDeviceToHost);\n",
        "\n",
        "    // Verification\n",
        "    for(int i = 0; i < N; i++){\n",
        "        assert(fabs(out[i] - a[i] - b[i]) < MAX_ERR);\n",
        "    }\n",
        "    printf(\"out[0] = %f\\n\", out[0]);\n",
        "    printf(\"PASSED\\n\");\n",
        "\n",
        "    // Deallocate device memory\n",
        "    cudaFree(d_a);\n",
        "    cudaFree(d_b);\n",
        "    cudaFree(d_out);\n",
        "\n",
        "    // Deallocate host memory\n",
        "    free(a); \n",
        "    free(b); \n",
        "    free(out);\n",
        "}"
      ],
      "execution_count": 11,
      "outputs": [
        {
          "output_type": "stream",
          "text": [
            "out[0] = 3.000000\n",
            "PASSED\n",
            "\n"
          ],
          "name": "stdout"
        }
      ]
    },
    {
      "cell_type": "markdown",
      "metadata": {
        "id": "N1p0GrjgL2DP",
        "colab_type": "text"
      },
      "source": [
        "# Cộng 2 ma trận sử dụng đa luồng GPU CUDA"
      ]
    },
    {
      "cell_type": "code",
      "metadata": {
        "colab_type": "code",
        "outputId": "ce2b6b47-8916-4f44-fdbb-e713f01789ca",
        "id": "B___k-udMvNV",
        "colab": {
          "base_uri": "https://localhost:8080/",
          "height": 68
        }
      },
      "source": [
        "%%cu\n",
        "#include <stdio.h>\n",
        "#include <stdlib.h>\n",
        "#include <math.h>\n",
        "#include <assert.h>\n",
        "#include <cuda.h>\n",
        "#include <cuda_runtime.h>\n",
        "\n",
        "#define N 10000000\n",
        "#define MAX_ERR 1e-6\n",
        "\n",
        "__global__ void vector_add(float *out, float *a, float *b, int n) {\n",
        "    int index = 0;\n",
        "    int stride = 1;\n",
        "    for(int i = index; i < n; i += stride){\n",
        "        out[i] = a[i] + b[i];\n",
        "    }\n",
        "}\n",
        "\n",
        "int main(){\n",
        "    float *a, *b, *out;\n",
        "    float *d_a, *d_b, *d_out; \n",
        "\n",
        "    // Allocate host memory\n",
        "    a   = (float*)malloc(sizeof(float) * N);\n",
        "    b   = (float*)malloc(sizeof(float) * N);\n",
        "    out = (float*)malloc(sizeof(float) * N);\n",
        "\n",
        "    // Initialize host arrays\n",
        "    for(int i = 0; i < N; i++){\n",
        "        a[i] = 1.0f;\n",
        "        b[i] = 2.0f;\n",
        "    }\n",
        "\n",
        "    // Allocate device memory\n",
        "    cudaMalloc((void**)&d_a, sizeof(float) * N);\n",
        "    cudaMalloc((void**)&d_b, sizeof(float) * N);\n",
        "    cudaMalloc((void**)&d_out, sizeof(float) * N);\n",
        "\n",
        "    // Transfer data from host to device memory\n",
        "    cudaMemcpy(d_a, a, sizeof(float) * N, cudaMemcpyHostToDevice);\n",
        "    cudaMemcpy(d_b, b, sizeof(float) * N, cudaMemcpyHostToDevice);\n",
        "\n",
        "    // Executing kernel \n",
        "    vector_add<<<1,256>>>(d_out, d_a, d_b, N);\n",
        "    \n",
        "    // Transfer data back to host memory\n",
        "    cudaMemcpy(out, d_out, sizeof(float) * N, cudaMemcpyDeviceToHost);\n",
        "\n",
        "    // Verification\n",
        "    for(int i = 0; i < N; i++){\n",
        "        assert(fabs(out[i] - a[i] - b[i]) < MAX_ERR);\n",
        "    }\n",
        "    printf(\"out[0] = %f\\n\", out[0]);\n",
        "    printf(\"PASSED\\n\");\n",
        "\n",
        "    // Deallocate device memory\n",
        "    cudaFree(d_a);\n",
        "    cudaFree(d_b);\n",
        "    cudaFree(d_out);\n",
        "\n",
        "    // Deallocate host memory\n",
        "    free(a); \n",
        "    free(b); \n",
        "    free(out);\n",
        "}"
      ],
      "execution_count": 14,
      "outputs": [
        {
          "output_type": "stream",
          "text": [
            "out[0] = 3.000000\n",
            "PASSED\n",
            "\n"
          ],
          "name": "stdout"
        }
      ]
    },
    {
      "cell_type": "code",
      "metadata": {
        "id": "c9PH_imNOyCx",
        "colab_type": "code",
        "colab": {}
      },
      "source": [
        "#include <stdio.h>\n",
        "#include <stdlib.h>\n",
        "#include <math.h>\n",
        "#include <assert.h>\n",
        "#include <cuda.h>\n",
        "#include <cuda_runtime.h>\n",
        "\n",
        "#define N 10000000\n",
        "#define MAX_ERR 1e-6\n",
        "\n",
        "__global__ void vector_add(float *out, float *a, float *b, int n) {\n",
        "    int tid = blockIdx.x * blockDim.x + threadIdx.x;\n",
        "    \n",
        "    // Handling arbitrary vector size\n",
        "    if (tid < n){\n",
        "        out[tid] = a[tid] + b[tid];\n",
        "    }\n",
        "}\n",
        "\n",
        "int main(){\n",
        "    float *a, *b, *out;\n",
        "    float *d_a, *d_b, *d_out; \n",
        "\n",
        "    // Allocate host memory\n",
        "    a   = (float*)malloc(sizeof(float) * N);\n",
        "    b   = (float*)malloc(sizeof(float) * N);\n",
        "    out = (float*)malloc(sizeof(float) * N);\n",
        "\n",
        "    // Initialize host arrays\n",
        "    for(int i = 0; i < N; i++){\n",
        "        a[i] = 1.0f;\n",
        "        b[i] = 2.0f;\n",
        "    }\n",
        "\n",
        "    // Allocate device memory \n",
        "    cudaMalloc((void**)&d_a, sizeof(float) * N);\n",
        "    cudaMalloc((void**)&d_b, sizeof(float) * N);\n",
        "    cudaMalloc((void**)&d_out, sizeof(float) * N);\n",
        "\n",
        "    // Transfer data from host to device memory\n",
        "    cudaMemcpy(d_a, a, sizeof(float) * N, cudaMemcpyHostToDevice);\n",
        "    cudaMemcpy(d_b, b, sizeof(float) * N, cudaMemcpyHostToDevice);\n",
        "\n",
        "\n",
        "    // Executing kernel \n",
        "    int block_size = 256;\n",
        "    int grid_size = ((N + block_size) / block_size);\n",
        "    vector_add<<<grid_size,block_size>>>(d_out, d_a, d_b, N);\n",
        "    \n",
        "    // Transfer data back to host memory\n",
        "    cudaMemcpy(out, d_out, sizeof(float) * N, cudaMemcpyDeviceToHost);\n",
        "\n",
        "    // Verification\n",
        "    for(int i = 0; i < N; i++){\n",
        "        assert(fabs(out[i] - a[i] - b[i]) < MAX_ERR);\n",
        "    }\n",
        "\n",
        "    printf(\"PASSED\\n\");\n",
        "\n",
        "    // Deallocate device memory\n",
        "    cudaFree(d_a);\n",
        "    cudaFree(d_b);\n",
        "    cudaFree(d_out);\n",
        "\n",
        "    // Deallocate host memory\n",
        "    free(a); \n",
        "    free(b); \n",
        "    free(out);\n",
        "}"
      ],
      "execution_count": 0,
      "outputs": []
    }
  ]
}